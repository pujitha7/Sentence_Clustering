{
 "cells": [
  {
   "cell_type": "code",
   "execution_count": 57,
   "metadata": {
    "collapsed": true
   },
   "outputs": [],
   "source": [
    "from __future__ import print_function\n",
    "import numpy as np\n",
    "import pandas as pd\n",
    "\n",
    "from keras.utils.np_utils import to_categorical\n",
    "\n",
    "from keras.preprocessing import sequence\n",
    "from keras.models import Sequential\n",
    "from keras.layers import Input, Embedding, LSTM, Dense,Dropout,GRU,Masking\n",
    "from keras.models import Model\n",
    "from nltk.tokenize import word_tokenize\n",
    "from nltk.tokenize import RegexpTokenizer\n",
    "\n",
    "from gensim.models import Word2Vec"
   ]
  },
  {
   "cell_type": "code",
   "execution_count": 58,
   "metadata": {
    "collapsed": true
   },
   "outputs": [],
   "source": [
    "train_x = pd.read_csv(\"modified.csv\",encoding = 'latin1')"
   ]
  },
  {
   "cell_type": "code",
   "execution_count": 59,
   "metadata": {
    "collapsed": true
   },
   "outputs": [],
   "source": [
    "train_x=train_x['Comments']"
   ]
  },
  {
   "cell_type": "code",
   "execution_count": 60,
   "metadata": {},
   "outputs": [
    {
     "data": {
      "text/plain": [
       "(161693,)"
      ]
     },
     "execution_count": 60,
     "metadata": {},
     "output_type": "execute_result"
    }
   ],
   "source": [
    "np.shape(train_x)"
   ]
  },
  {
   "cell_type": "code",
   "execution_count": 61,
   "metadata": {
    "collapsed": true
   },
   "outputs": [],
   "source": [
    "train=train_x[0:5000]"
   ]
  },
  {
   "cell_type": "code",
   "execution_count": 62,
   "metadata": {},
   "outputs": [
    {
     "data": {
      "text/plain": [
       "(5000,)"
      ]
     },
     "execution_count": 62,
     "metadata": {},
     "output_type": "execute_result"
    }
   ],
   "source": [
    "np.shape(train)"
   ]
  },
  {
   "cell_type": "code",
   "execution_count": 63,
   "metadata": {
    "collapsed": true
   },
   "outputs": [],
   "source": [
    "for i in range(0,5000):\n",
    "    train[i] = train[i].lower()\n",
    "\n",
    "tokenizer = RegexpTokenizer(r'\\w+')\n",
    "for i in range(0,5000):\n",
    "    train[i] = tokenizer.tokenize(train[i])\n"
   ]
  },
  {
   "cell_type": "code",
   "execution_count": 64,
   "metadata": {
    "collapsed": true
   },
   "outputs": [],
   "source": [
    "del tokenizer"
   ]
  },
  {
   "cell_type": "code",
   "execution_count": 65,
   "metadata": {},
   "outputs": [
    {
     "name": "stdout",
     "output_type": "stream",
     "text": [
      "4798\n"
     ]
    }
   ],
   "source": [
    "count=0\n",
    "for i in range(0,5000):\n",
    "    if(len(train[i])<150):\n",
    "        count=count+1\n",
    "print(count)"
   ]
  },
  {
   "cell_type": "code",
   "execution_count": 66,
   "metadata": {
    "collapsed": true
   },
   "outputs": [],
   "source": [
    "model_word2vec = Word2Vec(train,size =50,window = 5,min_count=1)"
   ]
  },
  {
   "cell_type": "code",
   "execution_count": 67,
   "metadata": {},
   "outputs": [
    {
     "data": {
      "text/plain": [
       "[('check', 0.9203464388847351),\n",
       " ('soon', 0.9002670645713806),\n",
       " ('close', 0.8994628190994263),\n",
       " ('come', 0.8921879529953003),\n",
       " ('thanks', 0.8729674816131592),\n",
       " ('let', 0.8701559901237488),\n",
       " ('whether', 0.8699354529380798),\n",
       " ('face', 0.8677573204040527),\n",
       " ('know', 0.8670606017112732),\n",
       " ('any', 0.863690197467804)]"
      ]
     },
     "execution_count": 67,
     "metadata": {},
     "output_type": "execute_result"
    }
   ],
   "source": [
    "model_word2vec.wv.similar_by_word('confirm')"
   ]
  },
  {
   "cell_type": "code",
   "execution_count": 68,
   "metadata": {},
   "outputs": [
    {
     "data": {
      "text/plain": [
       "array([  1.36780107e+00,   8.87938142e-01,   6.10094294e-02,\n",
       "        -6.08940959e-01,  -9.90442395e-01,  -3.51829797e-01,\n",
       "        -7.21544564e-01,   5.73705494e-01,  -4.37992811e-01,\n",
       "         1.32294014e-01,   1.10031061e-01,  -4.34766747e-02,\n",
       "         2.65548676e-01,   9.76784676e-02,   2.24685773e-01,\n",
       "        -2.46469483e-01,   2.41752431e-01,  -5.09155571e-01,\n",
       "         2.95402229e-01,   1.18601285e-01,  -1.80731460e-01,\n",
       "         3.50163698e-01,  -8.84767652e-01,  -4.46130037e-01,\n",
       "        -2.71982640e-01,  -1.03630461e-01,  -7.34228134e-01,\n",
       "         1.70147407e+00,   1.17774203e-03,   1.96118340e-01,\n",
       "         4.33391303e-01,  -3.23949188e-01,   2.01409012e-01,\n",
       "         1.11269701e+00,  -4.15883362e-01,   4.77439076e-01,\n",
       "         1.21172182e-01,   1.11821187e+00,   5.88089883e-01,\n",
       "        -5.44902742e-01,   1.32156044e-01,   1.11213163e-01,\n",
       "         5.32409310e-01,   1.25520504e+00,  -3.13499272e-02,\n",
       "        -7.15162337e-01,   1.11216083e-01,   7.41250068e-02,\n",
       "        -3.08896184e-01,  -6.32754922e-01], dtype=float32)"
      ]
     },
     "execution_count": 68,
     "metadata": {},
     "output_type": "execute_result"
    }
   ],
   "source": [
    "model_word2vec.wv.get_vector('confirm')"
   ]
  },
  {
   "cell_type": "code",
   "execution_count": 69,
   "metadata": {
    "collapsed": true
   },
   "outputs": [],
   "source": [
    "arr=np.zeros([5000,100,50])"
   ]
  },
  {
   "cell_type": "code",
   "execution_count": 70,
   "metadata": {
    "collapsed": true
   },
   "outputs": [],
   "source": [
    "b=np.zeros([50])\n",
    "for i in range(0,5000):\n",
    "    a = model_word2vec.wv[train[i]]\n",
    "    if(len(a) >100):\n",
    "        a = a[0:100]\n",
    "    for j in range(0,(100-len(a))):\n",
    "        a=np.vstack([a,b])\n",
    "    arr[i] = a\n",
    "\n",
    "del a \n",
    "del b"
   ]
  },
  {
   "cell_type": "code",
   "execution_count": 71,
   "metadata": {},
   "outputs": [
    {
     "data": {
      "text/plain": [
       "(5000, 100, 50)"
      ]
     },
     "execution_count": 71,
     "metadata": {},
     "output_type": "execute_result"
    }
   ],
   "source": [
    "np.shape(arr)"
   ]
  },
  {
   "cell_type": "code",
   "execution_count": 72,
   "metadata": {
    "collapsed": true
   },
   "outputs": [],
   "source": [
    "import tensorflow as tf"
   ]
  },
  {
   "cell_type": "code",
   "execution_count": 73,
   "metadata": {
    "collapsed": true
   },
   "outputs": [],
   "source": [
    "# The first part is unchanged\n",
    "encoder_inputs = Input(shape=(100,50))\n",
    "encoder = LSTM(50, return_state=True)\n",
    "encoder_outputs, state_h, state_c = encoder(encoder_inputs)\n",
    "states = [state_h, state_c]\n",
    "\n",
    "# Set up the decoder, which will only process one timestep at a time.\n",
    "decoder_inputs = Input(shape=(1, 50))\n",
    "decoder_lstm = LSTM(50, return_sequences=True, return_state=True)\n",
    "decoder_dense = Dense(75,activation='relu')\n",
    "decoder_dense2 = Dense(50)"
   ]
  },
  {
   "cell_type": "code",
   "execution_count": 74,
   "metadata": {
    "collapsed": true
   },
   "outputs": [],
   "source": [
    "from keras.layers import Lambda\n",
    "from keras import backend as K"
   ]
  },
  {
   "cell_type": "code",
   "execution_count": 75,
   "metadata": {
    "collapsed": true
   },
   "outputs": [],
   "source": [
    "all_outputs = []\n",
    "inputs = decoder_inputs\n",
    "for _ in range(100):\n",
    "    # Run the decoder on one timestep\n",
    "    outputs, state_h, state_c = decoder_lstm(inputs,\n",
    "                                             initial_state=states)\n",
    "    outputs1 = decoder_dense(outputs)\n",
    "    outputs= decoder_dense2(outputs1)\n",
    "    # Store the current prediction (we will concatenate all predictions later)\n",
    "    all_outputs.append(outputs)\n",
    "    # Reinject the outputs as inputs for the next loop iteration\n",
    "    # as well as update the states\n",
    "    inputs = outputs\n",
    "    states = [state_h, state_c]"
   ]
  },
  {
   "cell_type": "code",
   "execution_count": 76,
   "metadata": {},
   "outputs": [
    {
     "data": {
      "text/plain": [
       "TensorShape([Dimension(None), Dimension(100), Dimension(50)])"
      ]
     },
     "execution_count": 76,
     "metadata": {},
     "output_type": "execute_result"
    }
   ],
   "source": [
    "decoder_outputs.shape"
   ]
  },
  {
   "cell_type": "code",
   "execution_count": 77,
   "metadata": {
    "collapsed": true
   },
   "outputs": [],
   "source": [
    "decoder_outputs = Lambda(lambda x: K.concatenate(x, axis=1))(all_outputs)"
   ]
  },
  {
   "cell_type": "code",
   "execution_count": 78,
   "metadata": {
    "collapsed": true
   },
   "outputs": [],
   "source": [
    "model = Model([encoder_inputs, decoder_inputs],decoder_outputs)\n",
    "model.compile(optimizer='adam', loss='mse')"
   ]
  },
  {
   "cell_type": "code",
   "execution_count": 79,
   "metadata": {},
   "outputs": [
    {
     "name": "stdout",
     "output_type": "stream",
     "text": [
      "__________________________________________________________________________________________________\n",
      "Layer (type)                    Output Shape         Param #     Connected to                     \n",
      "==================================================================================================\n",
      "input_3 (InputLayer)            (None, 100, 50)      0                                            \n",
      "__________________________________________________________________________________________________\n",
      "input_4 (InputLayer)            (None, 1, 50)        0                                            \n",
      "__________________________________________________________________________________________________\n",
      "lstm_3 (LSTM)                   [(None, 50), (None,  20200       input_3[0][0]                    \n",
      "__________________________________________________________________________________________________\n",
      "lstm_4 (LSTM)                   [(None, 1, 50), (Non 20200       input_4[0][0]                    \n",
      "                                                                 lstm_3[0][1]                     \n",
      "                                                                 lstm_3[0][2]                     \n",
      "                                                                 dense_4[0][0]                    \n",
      "                                                                 lstm_4[0][1]                     \n",
      "                                                                 lstm_4[0][2]                     \n",
      "                                                                 dense_4[1][0]                    \n",
      "                                                                 lstm_4[1][1]                     \n",
      "                                                                 lstm_4[1][2]                     \n",
      "                                                                 dense_4[2][0]                    \n",
      "                                                                 lstm_4[2][1]                     \n",
      "                                                                 lstm_4[2][2]                     \n",
      "                                                                 dense_4[3][0]                    \n",
      "                                                                 lstm_4[3][1]                     \n",
      "                                                                 lstm_4[3][2]                     \n",
      "                                                                 dense_4[4][0]                    \n",
      "                                                                 lstm_4[4][1]                     \n",
      "                                                                 lstm_4[4][2]                     \n",
      "                                                                 dense_4[5][0]                    \n",
      "                                                                 lstm_4[5][1]                     \n",
      "                                                                 lstm_4[5][2]                     \n",
      "                                                                 dense_4[6][0]                    \n",
      "                                                                 lstm_4[6][1]                     \n",
      "                                                                 lstm_4[6][2]                     \n",
      "                                                                 dense_4[7][0]                    \n",
      "                                                                 lstm_4[7][1]                     \n",
      "                                                                 lstm_4[7][2]                     \n",
      "                                                                 dense_4[8][0]                    \n",
      "                                                                 lstm_4[8][1]                     \n",
      "                                                                 lstm_4[8][2]                     \n",
      "                                                                 dense_4[9][0]                    \n",
      "                                                                 lstm_4[9][1]                     \n",
      "                                                                 lstm_4[9][2]                     \n",
      "                                                                 dense_4[10][0]                   \n",
      "                                                                 lstm_4[10][1]                    \n",
      "                                                                 lstm_4[10][2]                    \n",
      "                                                                 dense_4[11][0]                   \n",
      "                                                                 lstm_4[11][1]                    \n",
      "                                                                 lstm_4[11][2]                    \n",
      "                                                                 dense_4[12][0]                   \n",
      "                                                                 lstm_4[12][1]                    \n",
      "                                                                 lstm_4[12][2]                    \n",
      "                                                                 dense_4[13][0]                   \n",
      "                                                                 lstm_4[13][1]                    \n",
      "                                                                 lstm_4[13][2]                    \n",
      "                                                                 dense_4[14][0]                   \n",
      "                                                                 lstm_4[14][1]                    \n",
      "                                                                 lstm_4[14][2]                    \n",
      "                                                                 dense_4[15][0]                   \n",
      "                                                                 lstm_4[15][1]                    \n",
      "                                                                 lstm_4[15][2]                    \n",
      "                                                                 dense_4[16][0]                   \n",
      "                                                                 lstm_4[16][1]                    \n",
      "                                                                 lstm_4[16][2]                    \n",
      "                                                                 dense_4[17][0]                   \n",
      "                                                                 lstm_4[17][1]                    \n",
      "                                                                 lstm_4[17][2]                    \n",
      "                                                                 dense_4[18][0]                   \n",
      "                                                                 lstm_4[18][1]                    \n",
      "                                                                 lstm_4[18][2]                    \n",
      "                                                                 dense_4[19][0]                   \n",
      "                                                                 lstm_4[19][1]                    \n",
      "                                                                 lstm_4[19][2]                    \n",
      "                                                                 dense_4[20][0]                   \n",
      "                                                                 lstm_4[20][1]                    \n",
      "                                                                 lstm_4[20][2]                    \n",
      "                                                                 dense_4[21][0]                   \n",
      "                                                                 lstm_4[21][1]                    \n",
      "                                                                 lstm_4[21][2]                    \n",
      "                                                                 dense_4[22][0]                   \n",
      "                                                                 lstm_4[22][1]                    \n",
      "                                                                 lstm_4[22][2]                    \n",
      "                                                                 dense_4[23][0]                   \n",
      "                                                                 lstm_4[23][1]                    \n",
      "                                                                 lstm_4[23][2]                    \n",
      "                                                                 dense_4[24][0]                   \n",
      "                                                                 lstm_4[24][1]                    \n",
      "                                                                 lstm_4[24][2]                    \n",
      "                                                                 dense_4[25][0]                   \n",
      "                                                                 lstm_4[25][1]                    \n",
      "                                                                 lstm_4[25][2]                    \n",
      "                                                                 dense_4[26][0]                   \n",
      "                                                                 lstm_4[26][1]                    \n",
      "                                                                 lstm_4[26][2]                    \n",
      "                                                                 dense_4[27][0]                   \n",
      "                                                                 lstm_4[27][1]                    \n",
      "                                                                 lstm_4[27][2]                    \n",
      "                                                                 dense_4[28][0]                   \n",
      "                                                                 lstm_4[28][1]                    \n",
      "                                                                 lstm_4[28][2]                    \n",
      "                                                                 dense_4[29][0]                   \n",
      "                                                                 lstm_4[29][1]                    \n",
      "                                                                 lstm_4[29][2]                    \n",
      "                                                                 dense_4[30][0]                   \n",
      "                                                                 lstm_4[30][1]                    \n",
      "                                                                 lstm_4[30][2]                    \n",
      "                                                                 dense_4[31][0]                   \n",
      "                                                                 lstm_4[31][1]                    \n",
      "                                                                 lstm_4[31][2]                    \n",
      "                                                                 dense_4[32][0]                   \n",
      "                                                                 lstm_4[32][1]                    \n",
      "                                                                 lstm_4[32][2]                    \n",
      "                                                                 dense_4[33][0]                   \n",
      "                                                                 lstm_4[33][1]                    \n",
      "                                                                 lstm_4[33][2]                    \n",
      "                                                                 dense_4[34][0]                   \n",
      "                                                                 lstm_4[34][1]                    \n",
      "                                                                 lstm_4[34][2]                    \n",
      "                                                                 dense_4[35][0]                   \n",
      "                                                                 lstm_4[35][1]                    \n",
      "                                                                 lstm_4[35][2]                    \n",
      "                                                                 dense_4[36][0]                   \n",
      "                                                                 lstm_4[36][1]                    \n",
      "                                                                 lstm_4[36][2]                    \n",
      "                                                                 dense_4[37][0]                   \n",
      "                                                                 lstm_4[37][1]                    \n",
      "                                                                 lstm_4[37][2]                    \n",
      "                                                                 dense_4[38][0]                   \n",
      "                                                                 lstm_4[38][1]                    \n",
      "                                                                 lstm_4[38][2]                    \n",
      "                                                                 dense_4[39][0]                   \n",
      "                                                                 lstm_4[39][1]                    \n",
      "                                                                 lstm_4[39][2]                    \n",
      "                                                                 dense_4[40][0]                   \n",
      "                                                                 lstm_4[40][1]                    \n",
      "                                                                 lstm_4[40][2]                    \n",
      "                                                                 dense_4[41][0]                   \n",
      "                                                                 lstm_4[41][1]                    \n",
      "                                                                 lstm_4[41][2]                    \n",
      "                                                                 dense_4[42][0]                   \n",
      "                                                                 lstm_4[42][1]                    \n",
      "                                                                 lstm_4[42][2]                    \n",
      "                                                                 dense_4[43][0]                   \n",
      "                                                                 lstm_4[43][1]                    \n",
      "                                                                 lstm_4[43][2]                    \n",
      "                                                                 dense_4[44][0]                   \n",
      "                                                                 lstm_4[44][1]                    \n",
      "                                                                 lstm_4[44][2]                    \n",
      "                                                                 dense_4[45][0]                   \n",
      "                                                                 lstm_4[45][1]                    \n",
      "                                                                 lstm_4[45][2]                    \n",
      "                                                                 dense_4[46][0]                   \n",
      "                                                                 lstm_4[46][1]                    \n",
      "                                                                 lstm_4[46][2]                    \n",
      "                                                                 dense_4[47][0]                   \n",
      "                                                                 lstm_4[47][1]                    \n",
      "                                                                 lstm_4[47][2]                    \n",
      "                                                                 dense_4[48][0]                   \n",
      "                                                                 lstm_4[48][1]                    \n",
      "                                                                 lstm_4[48][2]                    \n",
      "                                                                 dense_4[49][0]                   \n",
      "                                                                 lstm_4[49][1]                    \n",
      "                                                                 lstm_4[49][2]                    \n",
      "                                                                 dense_4[50][0]                   \n",
      "                                                                 lstm_4[50][1]                    \n",
      "                                                                 lstm_4[50][2]                    \n",
      "                                                                 dense_4[51][0]                   \n",
      "                                                                 lstm_4[51][1]                    \n",
      "                                                                 lstm_4[51][2]                    \n",
      "                                                                 dense_4[52][0]                   \n",
      "                                                                 lstm_4[52][1]                    \n",
      "                                                                 lstm_4[52][2]                    \n",
      "                                                                 dense_4[53][0]                   \n",
      "                                                                 lstm_4[53][1]                    \n",
      "                                                                 lstm_4[53][2]                    \n",
      "                                                                 dense_4[54][0]                   \n",
      "                                                                 lstm_4[54][1]                    \n",
      "                                                                 lstm_4[54][2]                    \n",
      "                                                                 dense_4[55][0]                   \n",
      "                                                                 lstm_4[55][1]                    \n",
      "                                                                 lstm_4[55][2]                    \n",
      "                                                                 dense_4[56][0]                   \n",
      "                                                                 lstm_4[56][1]                    \n",
      "                                                                 lstm_4[56][2]                    \n",
      "                                                                 dense_4[57][0]                   \n",
      "                                                                 lstm_4[57][1]                    \n",
      "                                                                 lstm_4[57][2]                    \n",
      "                                                                 dense_4[58][0]                   \n",
      "                                                                 lstm_4[58][1]                    \n",
      "                                                                 lstm_4[58][2]                    \n",
      "                                                                 dense_4[59][0]                   \n",
      "                                                                 lstm_4[59][1]                    \n",
      "                                                                 lstm_4[59][2]                    \n",
      "                                                                 dense_4[60][0]                   \n",
      "                                                                 lstm_4[60][1]                    \n",
      "                                                                 lstm_4[60][2]                    \n",
      "                                                                 dense_4[61][0]                   \n",
      "                                                                 lstm_4[61][1]                    \n",
      "                                                                 lstm_4[61][2]                    \n",
      "                                                                 dense_4[62][0]                   \n",
      "                                                                 lstm_4[62][1]                    \n",
      "                                                                 lstm_4[62][2]                    \n",
      "                                                                 dense_4[63][0]                   \n",
      "                                                                 lstm_4[63][1]                    \n",
      "                                                                 lstm_4[63][2]                    \n",
      "                                                                 dense_4[64][0]                   \n",
      "                                                                 lstm_4[64][1]                    \n",
      "                                                                 lstm_4[64][2]                    \n",
      "                                                                 dense_4[65][0]                   \n",
      "                                                                 lstm_4[65][1]                    \n",
      "                                                                 lstm_4[65][2]                    \n",
      "                                                                 dense_4[66][0]                   \n",
      "                                                                 lstm_4[66][1]                    \n",
      "                                                                 lstm_4[66][2]                    \n",
      "                                                                 dense_4[67][0]                   \n",
      "                                                                 lstm_4[67][1]                    \n",
      "                                                                 lstm_4[67][2]                    \n",
      "                                                                 dense_4[68][0]                   \n",
      "                                                                 lstm_4[68][1]                    \n",
      "                                                                 lstm_4[68][2]                    \n",
      "                                                                 dense_4[69][0]                   \n",
      "                                                                 lstm_4[69][1]                    \n",
      "                                                                 lstm_4[69][2]                    \n",
      "                                                                 dense_4[70][0]                   \n",
      "                                                                 lstm_4[70][1]                    \n",
      "                                                                 lstm_4[70][2]                    \n",
      "                                                                 dense_4[71][0]                   \n",
      "                                                                 lstm_4[71][1]                    \n",
      "                                                                 lstm_4[71][2]                    \n",
      "                                                                 dense_4[72][0]                   \n",
      "                                                                 lstm_4[72][1]                    \n",
      "                                                                 lstm_4[72][2]                    \n",
      "                                                                 dense_4[73][0]                   \n",
      "                                                                 lstm_4[73][1]                    \n",
      "                                                                 lstm_4[73][2]                    \n",
      "                                                                 dense_4[74][0]                   \n",
      "                                                                 lstm_4[74][1]                    \n",
      "                                                                 lstm_4[74][2]                    \n",
      "                                                                 dense_4[75][0]                   \n",
      "                                                                 lstm_4[75][1]                    \n",
      "                                                                 lstm_4[75][2]                    \n",
      "                                                                 dense_4[76][0]                   \n",
      "                                                                 lstm_4[76][1]                    \n",
      "                                                                 lstm_4[76][2]                    \n",
      "                                                                 dense_4[77][0]                   \n",
      "                                                                 lstm_4[77][1]                    \n",
      "                                                                 lstm_4[77][2]                    \n",
      "                                                                 dense_4[78][0]                   \n",
      "                                                                 lstm_4[78][1]                    \n",
      "                                                                 lstm_4[78][2]                    \n",
      "                                                                 dense_4[79][0]                   \n",
      "                                                                 lstm_4[79][1]                    \n",
      "                                                                 lstm_4[79][2]                    \n",
      "                                                                 dense_4[80][0]                   \n",
      "                                                                 lstm_4[80][1]                    \n",
      "                                                                 lstm_4[80][2]                    \n",
      "                                                                 dense_4[81][0]                   \n",
      "                                                                 lstm_4[81][1]                    \n",
      "                                                                 lstm_4[81][2]                    \n",
      "                                                                 dense_4[82][0]                   \n",
      "                                                                 lstm_4[82][1]                    \n",
      "                                                                 lstm_4[82][2]                    \n",
      "                                                                 dense_4[83][0]                   \n",
      "                                                                 lstm_4[83][1]                    \n",
      "                                                                 lstm_4[83][2]                    \n",
      "                                                                 dense_4[84][0]                   \n",
      "                                                                 lstm_4[84][1]                    \n",
      "                                                                 lstm_4[84][2]                    \n",
      "                                                                 dense_4[85][0]                   \n",
      "                                                                 lstm_4[85][1]                    \n",
      "                                                                 lstm_4[85][2]                    \n",
      "                                                                 dense_4[86][0]                   \n",
      "                                                                 lstm_4[86][1]                    \n",
      "                                                                 lstm_4[86][2]                    \n",
      "                                                                 dense_4[87][0]                   \n",
      "                                                                 lstm_4[87][1]                    \n",
      "                                                                 lstm_4[87][2]                    \n",
      "                                                                 dense_4[88][0]                   \n",
      "                                                                 lstm_4[88][1]                    \n",
      "                                                                 lstm_4[88][2]                    \n",
      "                                                                 dense_4[89][0]                   \n",
      "                                                                 lstm_4[89][1]                    \n",
      "                                                                 lstm_4[89][2]                    \n",
      "                                                                 dense_4[90][0]                   \n",
      "                                                                 lstm_4[90][1]                    \n",
      "                                                                 lstm_4[90][2]                    \n",
      "                                                                 dense_4[91][0]                   \n",
      "                                                                 lstm_4[91][1]                    \n",
      "                                                                 lstm_4[91][2]                    \n",
      "                                                                 dense_4[92][0]                   \n",
      "                                                                 lstm_4[92][1]                    \n",
      "                                                                 lstm_4[92][2]                    \n",
      "                                                                 dense_4[93][0]                   \n",
      "                                                                 lstm_4[93][1]                    \n",
      "                                                                 lstm_4[93][2]                    \n",
      "                                                                 dense_4[94][0]                   \n",
      "                                                                 lstm_4[94][1]                    \n",
      "                                                                 lstm_4[94][2]                    \n",
      "                                                                 dense_4[95][0]                   \n",
      "                                                                 lstm_4[95][1]                    \n",
      "                                                                 lstm_4[95][2]                    \n",
      "                                                                 dense_4[96][0]                   \n",
      "                                                                 lstm_4[96][1]                    \n",
      "                                                                 lstm_4[96][2]                    \n",
      "                                                                 dense_4[97][0]                   \n",
      "                                                                 lstm_4[97][1]                    \n",
      "                                                                 lstm_4[97][2]                    \n",
      "                                                                 dense_4[98][0]                   \n",
      "                                                                 lstm_4[98][1]                    \n",
      "                                                                 lstm_4[98][2]                    \n",
      "__________________________________________________________________________________________________\n",
      "dense_3 (Dense)                 (None, 1, 75)        3825        lstm_4[0][0]                     \n",
      "                                                                 lstm_4[1][0]                     \n",
      "                                                                 lstm_4[2][0]                     \n",
      "                                                                 lstm_4[3][0]                     \n",
      "                                                                 lstm_4[4][0]                     \n",
      "                                                                 lstm_4[5][0]                     \n",
      "                                                                 lstm_4[6][0]                     \n",
      "                                                                 lstm_4[7][0]                     \n",
      "                                                                 lstm_4[8][0]                     \n",
      "                                                                 lstm_4[9][0]                     \n",
      "                                                                 lstm_4[10][0]                    \n",
      "                                                                 lstm_4[11][0]                    \n",
      "                                                                 lstm_4[12][0]                    \n",
      "                                                                 lstm_4[13][0]                    \n",
      "                                                                 lstm_4[14][0]                    \n",
      "                                                                 lstm_4[15][0]                    \n",
      "                                                                 lstm_4[16][0]                    \n",
      "                                                                 lstm_4[17][0]                    \n",
      "                                                                 lstm_4[18][0]                    \n",
      "                                                                 lstm_4[19][0]                    \n",
      "                                                                 lstm_4[20][0]                    \n",
      "                                                                 lstm_4[21][0]                    \n",
      "                                                                 lstm_4[22][0]                    \n",
      "                                                                 lstm_4[23][0]                    \n",
      "                                                                 lstm_4[24][0]                    \n",
      "                                                                 lstm_4[25][0]                    \n",
      "                                                                 lstm_4[26][0]                    \n",
      "                                                                 lstm_4[27][0]                    \n",
      "                                                                 lstm_4[28][0]                    \n",
      "                                                                 lstm_4[29][0]                    \n",
      "                                                                 lstm_4[30][0]                    \n",
      "                                                                 lstm_4[31][0]                    \n",
      "                                                                 lstm_4[32][0]                    \n",
      "                                                                 lstm_4[33][0]                    \n",
      "                                                                 lstm_4[34][0]                    \n",
      "                                                                 lstm_4[35][0]                    \n",
      "                                                                 lstm_4[36][0]                    \n",
      "                                                                 lstm_4[37][0]                    \n",
      "                                                                 lstm_4[38][0]                    \n",
      "                                                                 lstm_4[39][0]                    \n",
      "                                                                 lstm_4[40][0]                    \n",
      "                                                                 lstm_4[41][0]                    \n",
      "                                                                 lstm_4[42][0]                    \n",
      "                                                                 lstm_4[43][0]                    \n",
      "                                                                 lstm_4[44][0]                    \n",
      "                                                                 lstm_4[45][0]                    \n",
      "                                                                 lstm_4[46][0]                    \n",
      "                                                                 lstm_4[47][0]                    \n",
      "                                                                 lstm_4[48][0]                    \n",
      "                                                                 lstm_4[49][0]                    \n",
      "                                                                 lstm_4[50][0]                    \n",
      "                                                                 lstm_4[51][0]                    \n",
      "                                                                 lstm_4[52][0]                    \n",
      "                                                                 lstm_4[53][0]                    \n",
      "                                                                 lstm_4[54][0]                    \n",
      "                                                                 lstm_4[55][0]                    \n",
      "                                                                 lstm_4[56][0]                    \n",
      "                                                                 lstm_4[57][0]                    \n",
      "                                                                 lstm_4[58][0]                    \n",
      "                                                                 lstm_4[59][0]                    \n",
      "                                                                 lstm_4[60][0]                    \n",
      "                                                                 lstm_4[61][0]                    \n",
      "                                                                 lstm_4[62][0]                    \n",
      "                                                                 lstm_4[63][0]                    \n",
      "                                                                 lstm_4[64][0]                    \n",
      "                                                                 lstm_4[65][0]                    \n",
      "                                                                 lstm_4[66][0]                    \n",
      "                                                                 lstm_4[67][0]                    \n",
      "                                                                 lstm_4[68][0]                    \n",
      "                                                                 lstm_4[69][0]                    \n",
      "                                                                 lstm_4[70][0]                    \n",
      "                                                                 lstm_4[71][0]                    \n",
      "                                                                 lstm_4[72][0]                    \n",
      "                                                                 lstm_4[73][0]                    \n",
      "                                                                 lstm_4[74][0]                    \n",
      "                                                                 lstm_4[75][0]                    \n",
      "                                                                 lstm_4[76][0]                    \n",
      "                                                                 lstm_4[77][0]                    \n",
      "                                                                 lstm_4[78][0]                    \n",
      "                                                                 lstm_4[79][0]                    \n",
      "                                                                 lstm_4[80][0]                    \n",
      "                                                                 lstm_4[81][0]                    \n",
      "                                                                 lstm_4[82][0]                    \n",
      "                                                                 lstm_4[83][0]                    \n",
      "                                                                 lstm_4[84][0]                    \n",
      "                                                                 lstm_4[85][0]                    \n",
      "                                                                 lstm_4[86][0]                    \n",
      "                                                                 lstm_4[87][0]                    \n",
      "                                                                 lstm_4[88][0]                    \n",
      "                                                                 lstm_4[89][0]                    \n",
      "                                                                 lstm_4[90][0]                    \n",
      "                                                                 lstm_4[91][0]                    \n",
      "                                                                 lstm_4[92][0]                    \n",
      "                                                                 lstm_4[93][0]                    \n",
      "                                                                 lstm_4[94][0]                    \n",
      "                                                                 lstm_4[95][0]                    \n",
      "                                                                 lstm_4[96][0]                    \n",
      "                                                                 lstm_4[97][0]                    \n",
      "                                                                 lstm_4[98][0]                    \n",
      "                                                                 lstm_4[99][0]                    \n",
      "__________________________________________________________________________________________________\n",
      "dense_4 (Dense)                 (None, 1, 50)        3800        dense_3[0][0]                    \n",
      "                                                                 dense_3[1][0]                    \n",
      "                                                                 dense_3[2][0]                    \n",
      "                                                                 dense_3[3][0]                    \n",
      "                                                                 dense_3[4][0]                    \n",
      "                                                                 dense_3[5][0]                    \n",
      "                                                                 dense_3[6][0]                    \n",
      "                                                                 dense_3[7][0]                    \n",
      "                                                                 dense_3[8][0]                    \n",
      "                                                                 dense_3[9][0]                    \n",
      "                                                                 dense_3[10][0]                   \n",
      "                                                                 dense_3[11][0]                   \n",
      "                                                                 dense_3[12][0]                   \n",
      "                                                                 dense_3[13][0]                   \n",
      "                                                                 dense_3[14][0]                   \n",
      "                                                                 dense_3[15][0]                   \n",
      "                                                                 dense_3[16][0]                   \n",
      "                                                                 dense_3[17][0]                   \n",
      "                                                                 dense_3[18][0]                   \n",
      "                                                                 dense_3[19][0]                   \n",
      "                                                                 dense_3[20][0]                   \n",
      "                                                                 dense_3[21][0]                   \n",
      "                                                                 dense_3[22][0]                   \n",
      "                                                                 dense_3[23][0]                   \n",
      "                                                                 dense_3[24][0]                   \n",
      "                                                                 dense_3[25][0]                   \n",
      "                                                                 dense_3[26][0]                   \n",
      "                                                                 dense_3[27][0]                   \n",
      "                                                                 dense_3[28][0]                   \n",
      "                                                                 dense_3[29][0]                   \n",
      "                                                                 dense_3[30][0]                   \n",
      "                                                                 dense_3[31][0]                   \n",
      "                                                                 dense_3[32][0]                   \n",
      "                                                                 dense_3[33][0]                   \n",
      "                                                                 dense_3[34][0]                   \n",
      "                                                                 dense_3[35][0]                   \n",
      "                                                                 dense_3[36][0]                   \n",
      "                                                                 dense_3[37][0]                   \n",
      "                                                                 dense_3[38][0]                   \n",
      "                                                                 dense_3[39][0]                   \n",
      "                                                                 dense_3[40][0]                   \n",
      "                                                                 dense_3[41][0]                   \n",
      "                                                                 dense_3[42][0]                   \n",
      "                                                                 dense_3[43][0]                   \n",
      "                                                                 dense_3[44][0]                   \n",
      "                                                                 dense_3[45][0]                   \n",
      "                                                                 dense_3[46][0]                   \n",
      "                                                                 dense_3[47][0]                   \n",
      "                                                                 dense_3[48][0]                   \n",
      "                                                                 dense_3[49][0]                   \n",
      "                                                                 dense_3[50][0]                   \n",
      "                                                                 dense_3[51][0]                   \n",
      "                                                                 dense_3[52][0]                   \n",
      "                                                                 dense_3[53][0]                   \n",
      "                                                                 dense_3[54][0]                   \n",
      "                                                                 dense_3[55][0]                   \n",
      "                                                                 dense_3[56][0]                   \n",
      "                                                                 dense_3[57][0]                   \n",
      "                                                                 dense_3[58][0]                   \n",
      "                                                                 dense_3[59][0]                   \n",
      "                                                                 dense_3[60][0]                   \n",
      "                                                                 dense_3[61][0]                   \n",
      "                                                                 dense_3[62][0]                   \n",
      "                                                                 dense_3[63][0]                   \n",
      "                                                                 dense_3[64][0]                   \n",
      "                                                                 dense_3[65][0]                   \n",
      "                                                                 dense_3[66][0]                   \n",
      "                                                                 dense_3[67][0]                   \n",
      "                                                                 dense_3[68][0]                   \n",
      "                                                                 dense_3[69][0]                   \n",
      "                                                                 dense_3[70][0]                   \n",
      "                                                                 dense_3[71][0]                   \n",
      "                                                                 dense_3[72][0]                   \n",
      "                                                                 dense_3[73][0]                   \n",
      "                                                                 dense_3[74][0]                   \n",
      "                                                                 dense_3[75][0]                   \n",
      "                                                                 dense_3[76][0]                   \n",
      "                                                                 dense_3[77][0]                   \n",
      "                                                                 dense_3[78][0]                   \n",
      "                                                                 dense_3[79][0]                   \n",
      "                                                                 dense_3[80][0]                   \n",
      "                                                                 dense_3[81][0]                   \n",
      "                                                                 dense_3[82][0]                   \n",
      "                                                                 dense_3[83][0]                   \n",
      "                                                                 dense_3[84][0]                   \n",
      "                                                                 dense_3[85][0]                   \n",
      "                                                                 dense_3[86][0]                   \n",
      "                                                                 dense_3[87][0]                   \n",
      "                                                                 dense_3[88][0]                   \n",
      "                                                                 dense_3[89][0]                   \n",
      "                                                                 dense_3[90][0]                   \n",
      "                                                                 dense_3[91][0]                   \n",
      "                                                                 dense_3[92][0]                   \n",
      "                                                                 dense_3[93][0]                   \n",
      "                                                                 dense_3[94][0]                   \n",
      "                                                                 dense_3[95][0]                   \n",
      "                                                                 dense_3[96][0]                   \n",
      "                                                                 dense_3[97][0]                   \n",
      "                                                                 dense_3[98][0]                   \n",
      "                                                                 dense_3[99][0]                   \n",
      "__________________________________________________________________________________________________\n",
      "lambda_2 (Lambda)               (None, 100, 50)      0           dense_4[0][0]                    \n",
      "                                                                 dense_4[1][0]                    \n",
      "                                                                 dense_4[2][0]                    \n",
      "                                                                 dense_4[3][0]                    \n",
      "                                                                 dense_4[4][0]                    \n",
      "                                                                 dense_4[5][0]                    \n",
      "                                                                 dense_4[6][0]                    \n",
      "                                                                 dense_4[7][0]                    \n",
      "                                                                 dense_4[8][0]                    \n",
      "                                                                 dense_4[9][0]                    \n",
      "                                                                 dense_4[10][0]                   \n",
      "                                                                 dense_4[11][0]                   \n",
      "                                                                 dense_4[12][0]                   \n",
      "                                                                 dense_4[13][0]                   \n",
      "                                                                 dense_4[14][0]                   \n",
      "                                                                 dense_4[15][0]                   \n",
      "                                                                 dense_4[16][0]                   \n",
      "                                                                 dense_4[17][0]                   \n",
      "                                                                 dense_4[18][0]                   \n",
      "                                                                 dense_4[19][0]                   \n",
      "                                                                 dense_4[20][0]                   \n",
      "                                                                 dense_4[21][0]                   \n",
      "                                                                 dense_4[22][0]                   \n",
      "                                                                 dense_4[23][0]                   \n",
      "                                                                 dense_4[24][0]                   \n",
      "                                                                 dense_4[25][0]                   \n",
      "                                                                 dense_4[26][0]                   \n",
      "                                                                 dense_4[27][0]                   \n",
      "                                                                 dense_4[28][0]                   \n",
      "                                                                 dense_4[29][0]                   \n",
      "                                                                 dense_4[30][0]                   \n",
      "                                                                 dense_4[31][0]                   \n",
      "                                                                 dense_4[32][0]                   \n",
      "                                                                 dense_4[33][0]                   \n",
      "                                                                 dense_4[34][0]                   \n",
      "                                                                 dense_4[35][0]                   \n",
      "                                                                 dense_4[36][0]                   \n",
      "                                                                 dense_4[37][0]                   \n",
      "                                                                 dense_4[38][0]                   \n",
      "                                                                 dense_4[39][0]                   \n",
      "                                                                 dense_4[40][0]                   \n",
      "                                                                 dense_4[41][0]                   \n",
      "                                                                 dense_4[42][0]                   \n",
      "                                                                 dense_4[43][0]                   \n",
      "                                                                 dense_4[44][0]                   \n",
      "                                                                 dense_4[45][0]                   \n",
      "                                                                 dense_4[46][0]                   \n",
      "                                                                 dense_4[47][0]                   \n",
      "                                                                 dense_4[48][0]                   \n",
      "                                                                 dense_4[49][0]                   \n",
      "                                                                 dense_4[50][0]                   \n",
      "                                                                 dense_4[51][0]                   \n",
      "                                                                 dense_4[52][0]                   \n",
      "                                                                 dense_4[53][0]                   \n",
      "                                                                 dense_4[54][0]                   \n",
      "                                                                 dense_4[55][0]                   \n",
      "                                                                 dense_4[56][0]                   \n",
      "                                                                 dense_4[57][0]                   \n",
      "                                                                 dense_4[58][0]                   \n",
      "                                                                 dense_4[59][0]                   \n",
      "                                                                 dense_4[60][0]                   \n",
      "                                                                 dense_4[61][0]                   \n",
      "                                                                 dense_4[62][0]                   \n",
      "                                                                 dense_4[63][0]                   \n",
      "                                                                 dense_4[64][0]                   \n",
      "                                                                 dense_4[65][0]                   \n",
      "                                                                 dense_4[66][0]                   \n",
      "                                                                 dense_4[67][0]                   \n",
      "                                                                 dense_4[68][0]                   \n",
      "                                                                 dense_4[69][0]                   \n",
      "                                                                 dense_4[70][0]                   \n",
      "                                                                 dense_4[71][0]                   \n",
      "                                                                 dense_4[72][0]                   \n",
      "                                                                 dense_4[73][0]                   \n",
      "                                                                 dense_4[74][0]                   \n",
      "                                                                 dense_4[75][0]                   \n",
      "                                                                 dense_4[76][0]                   \n",
      "                                                                 dense_4[77][0]                   \n",
      "                                                                 dense_4[78][0]                   \n",
      "                                                                 dense_4[79][0]                   \n",
      "                                                                 dense_4[80][0]                   \n",
      "                                                                 dense_4[81][0]                   \n",
      "                                                                 dense_4[82][0]                   \n",
      "                                                                 dense_4[83][0]                   \n",
      "                                                                 dense_4[84][0]                   \n",
      "                                                                 dense_4[85][0]                   \n",
      "                                                                 dense_4[86][0]                   \n",
      "                                                                 dense_4[87][0]                   \n",
      "                                                                 dense_4[88][0]                   \n",
      "                                                                 dense_4[89][0]                   \n",
      "                                                                 dense_4[90][0]                   \n",
      "                                                                 dense_4[91][0]                   \n",
      "                                                                 dense_4[92][0]                   \n",
      "                                                                 dense_4[93][0]                   \n",
      "                                                                 dense_4[94][0]                   \n",
      "                                                                 dense_4[95][0]                   \n",
      "                                                                 dense_4[96][0]                   \n",
      "                                                                 dense_4[97][0]                   \n",
      "                                                                 dense_4[98][0]                   \n",
      "                                                                 dense_4[99][0]                   \n",
      "==================================================================================================\n",
      "Total params: 48,025\n",
      "Trainable params: 48,025\n",
      "Non-trainable params: 0\n",
      "__________________________________________________________________________________________________\n"
     ]
    }
   ],
   "source": [
    "model.summary()"
   ]
  },
  {
   "cell_type": "code",
   "execution_count": 80,
   "metadata": {
    "collapsed": true
   },
   "outputs": [],
   "source": [
    "arr2 = np.zeros([5000,1,50])"
   ]
  },
  {
   "cell_type": "code",
   "execution_count": 81,
   "metadata": {},
   "outputs": [
    {
     "name": "stdout",
     "output_type": "stream",
     "text": [
      "Epoch 1/5\n",
      "5000/5000 [==============================] - 141s 28ms/step - loss: 0.2122\n",
      "Epoch 2/5\n",
      "5000/5000 [==============================] - 44s 9ms/step - loss: 0.1632\n",
      "Epoch 3/5\n",
      "5000/5000 [==============================] - 49s 10ms/step - loss: 0.1526\n",
      "Epoch 4/5\n",
      "5000/5000 [==============================] - 45s 9ms/step - loss: 0.1502\n",
      "Epoch 5/5\n",
      "5000/5000 [==============================] - 46s 9ms/step - loss: 0.1461\n"
     ]
    },
    {
     "data": {
      "text/plain": [
       "<keras.callbacks.History at 0x10aea8cc0>"
      ]
     },
     "execution_count": 81,
     "metadata": {},
     "output_type": "execute_result"
    }
   ],
   "source": [
    "model.fit([arr, arr2], arr, epochs=5,verbose=1)"
   ]
  },
  {
   "cell_type": "code",
   "execution_count": 82,
   "metadata": {
    "collapsed": true
   },
   "outputs": [],
   "source": [
    "xx = model.input[0]"
   ]
  },
  {
   "cell_type": "code",
   "execution_count": 83,
   "metadata": {
    "collapsed": true
   },
   "outputs": [],
   "source": [
    "yy=model.layers[2].get_output_at(node_index=0)[0]"
   ]
  },
  {
   "cell_type": "code",
   "execution_count": 84,
   "metadata": {},
   "outputs": [
    {
     "data": {
      "text/plain": [
       "<tf.Tensor 'lstm_3/TensorArrayReadV3:0' shape=(?, 50) dtype=float32>"
      ]
     },
     "execution_count": 84,
     "metadata": {},
     "output_type": "execute_result"
    }
   ],
   "source": [
    "yy"
   ]
  },
  {
   "cell_type": "code",
   "execution_count": 85,
   "metadata": {
    "collapsed": true
   },
   "outputs": [],
   "source": [
    "new_model=Model(xx,yy)"
   ]
  },
  {
   "cell_type": "code",
   "execution_count": null,
   "metadata": {
    "collapsed": true
   },
   "outputs": [],
   "source": [
    "s_in=arr[2]"
   ]
  },
  {
   "cell_type": "code",
   "execution_count": 87,
   "metadata": {},
   "outputs": [
    {
     "data": {
      "text/plain": [
       "(100, 50)"
      ]
     },
     "execution_count": 87,
     "metadata": {},
     "output_type": "execute_result"
    }
   ],
   "source": [
    "np.shape(s_in)"
   ]
  },
  {
   "cell_type": "code",
   "execution_count": 88,
   "metadata": {
    "collapsed": true
   },
   "outputs": [],
   "source": [
    "s_in=s_in.reshape(1,100,50)"
   ]
  },
  {
   "cell_type": "code",
   "execution_count": 89,
   "metadata": {
    "collapsed": true
   },
   "outputs": [],
   "source": [
    "res=new_model.predict(s_in)"
   ]
  },
  {
   "cell_type": "code",
   "execution_count": 90,
   "metadata": {
    "collapsed": true
   },
   "outputs": [],
   "source": [
    "tot_pred = new_model.predict(arr)"
   ]
  },
  {
   "cell_type": "code",
   "execution_count": 91,
   "metadata": {},
   "outputs": [
    {
     "data": {
      "text/plain": [
       "array([[ 0.574911  ,  0.59753197, -0.53574628, -0.40790498, -0.1401775 ,\n",
       "        -0.5928458 , -0.14336608,  0.60426503, -0.60519105, -0.50327927,\n",
       "         0.65367925,  0.17861417, -0.55071366, -0.45069546, -0.54768878,\n",
       "         0.40572771, -0.50975043,  0.68396086, -0.48766878, -0.33699846,\n",
       "        -0.57522041,  0.70693058,  0.24740291, -0.49150988,  0.7016713 ,\n",
       "        -0.25025401,  0.18174851,  0.44395927, -0.45806846,  0.39528263,\n",
       "         0.51075232,  0.62678772,  0.54429877,  0.63795471, -0.11536833,\n",
       "        -0.55071837,  0.46870351, -0.14323892,  0.64036655,  0.65466416,\n",
       "        -0.46140578, -0.19508725,  0.0070913 ,  0.59230542, -0.48492333,\n",
       "         0.65206152, -0.01410156,  0.56190133, -0.5273155 , -0.6266225 ]], dtype=float32)"
      ]
     },
     "execution_count": 91,
     "metadata": {},
     "output_type": "execute_result"
    }
   ],
   "source": [
    "res"
   ]
  },
  {
   "cell_type": "code",
   "execution_count": 93,
   "metadata": {},
   "outputs": [
    {
     "data": {
      "text/plain": [
       "(5000, 50)"
      ]
     },
     "execution_count": 93,
     "metadata": {},
     "output_type": "execute_result"
    }
   ],
   "source": [
    "np.shape(tot_pred)"
   ]
  },
  {
   "cell_type": "code",
   "execution_count": 94,
   "metadata": {
    "collapsed": true
   },
   "outputs": [],
   "source": [
    "import pandas as pd"
   ]
  },
  {
   "cell_type": "code",
   "execution_count": 95,
   "metadata": {
    "collapsed": true
   },
   "outputs": [],
   "source": [
    "tot_pred=pd.DataFrame(tot_pred)"
   ]
  },
  {
   "cell_type": "code",
   "execution_count": 96,
   "metadata": {
    "collapsed": true
   },
   "outputs": [],
   "source": [
    "tot_pred.to_csv('reps.csv')"
   ]
  }
 ],
 "metadata": {
  "kernelspec": {
   "display_name": "Python 3",
   "language": "python",
   "name": "python3"
  },
  "language_info": {
   "codemirror_mode": {
    "name": "ipython",
    "version": 3
   },
   "file_extension": ".py",
   "mimetype": "text/x-python",
   "name": "python",
   "nbconvert_exporter": "python",
   "pygments_lexer": "ipython3",
   "version": "3.6.3"
  }
 },
 "nbformat": 4,
 "nbformat_minor": 2
}
